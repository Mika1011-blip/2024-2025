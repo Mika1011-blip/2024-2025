{
 "cells": [
  {
   "cell_type": "markdown",
   "id": "747c6b3c-97a4-4a3e-8fa7-934766b6cd83",
   "metadata": {},
   "source": [
    "## The goal of the project is to balance capital distribution for each stock in the S&P 500 with equal weight."
   ]
  },
  {
   "cell_type": "code",
   "execution_count": 1,
   "id": "060dd9ab-f465-423e-8ce0-840a567749c9",
   "metadata": {},
   "outputs": [],
   "source": [
    "#imports \n",
    "import numpy as np\n",
    "import pandas as pd\n",
    "import requests\n",
    "import xlsxwriter\n",
    "import math"
   ]
  },
  {
   "cell_type": "code",
   "execution_count": 57,
   "id": "9ce98577-27ba-4548-b453-22090dde9844",
   "metadata": {},
   "outputs": [
    {
     "name": "stdout",
     "output_type": "stream",
     "text": [
      "    Ticker\n",
      "0        A\n",
      "1      AAL\n",
      "2      AAP\n",
      "3     AAPL\n",
      "4     ABBV\n",
      "..     ...\n",
      "500    YUM\n",
      "501    ZBH\n",
      "502   ZBRA\n",
      "503   ZION\n",
      "504    ZTS\n",
      "\n",
      "[505 rows x 1 columns]\n"
     ]
    }
   ],
   "source": [
    "#import list of stocks\n",
    "sp500_tickers = pd.read_csv('sp_500_stocks.csv')\n",
    "print(sp500_tickers)"
   ]
  },
  {
   "cell_type": "code",
   "execution_count": 87,
   "id": "ad23cc01-e79f-42e3-8f86-dcfadff493c4",
   "metadata": {},
   "outputs": [],
   "source": [
    "#import iex cloud api key\n",
    "from config_apiKeys import STOCKDATA_API_TOKEN"
   ]
  },
  {
   "cell_type": "code",
   "execution_count": 89,
   "id": "0dcde8d5-4e0d-482e-8848-7c48fcf1b7ed",
   "metadata": {},
   "outputs": [],
   "source": [
    "#call api key\n",
    "tickers = \"ABBV\"\n",
    "api_url = f\"https://api.stockdata.org/v1/data/quote?symbols={tickers}&api_token={STOCKDATA_API_TOKEN}\""
   ]
  },
  {
   "cell_type": "code",
   "execution_count": 101,
   "id": "a6f756a3-4580-4e5d-bc56-f8ee7af0409b",
   "metadata": {},
   "outputs": [
    {
     "name": "stdout",
     "output_type": "stream",
     "text": [
      "200\n"
     ]
    }
   ],
   "source": [
    "data = requests.get(api_url)\n",
    "print(data.status_code)"
   ]
  },
  {
   "cell_type": "code",
   "execution_count": 93,
   "id": "153df8a8-3082-4f1b-8ee3-99ce2d4a19a9",
   "metadata": {},
   "outputs": [
    {
     "name": "stdout",
     "output_type": "stream",
     "text": [
      "<class 'float'>\n"
     ]
    }
   ],
   "source": [
    "aapl_price = data['data'][0]['price']\n",
    "print(type(aapl_price))"
   ]
  },
  {
   "cell_type": "code",
   "execution_count": 67,
   "id": "41859bfc-78f4-4e65-ac0a-1066e490fc72",
   "metadata": {},
   "outputs": [
    {
     "data": {
      "text/plain": [
       "dict"
      ]
     },
     "execution_count": 67,
     "metadata": {},
     "output_type": "execute_result"
    }
   ],
   "source": [
    "type("
   ]
  },
  {
   "cell_type": "code",
   "execution_count": 103,
   "id": "62d37fba-eb71-4ef4-b915-d3fcce4ca55d",
   "metadata": {},
   "outputs": [
    {
     "ename": "IndexError",
     "evalue": "list index out of range",
     "output_type": "error",
     "traceback": [
      "\u001b[1;31m---------------------------------------------------------------------------\u001b[0m",
      "\u001b[1;31mIndexError\u001b[0m                                Traceback (most recent call last)",
      "Cell \u001b[1;32mIn[103], line 7\u001b[0m\n\u001b[0;32m      5\u001b[0m \u001b[38;5;28;01mif\u001b[39;00m data\u001b[38;5;241m.\u001b[39mstatus_code \u001b[38;5;241m==\u001b[39m \u001b[38;5;241m200\u001b[39m :\n\u001b[0;32m      6\u001b[0m     data \u001b[38;5;241m=\u001b[39m data\u001b[38;5;241m.\u001b[39mjson()\n\u001b[1;32m----> 7\u001b[0m     sp500_data[ticker[\u001b[38;5;124m\"\u001b[39m\u001b[38;5;124mTicker\u001b[39m\u001b[38;5;124m\"\u001b[39m]]\u001b[38;5;241m=\u001b[39mdata[\u001b[38;5;124m'\u001b[39m\u001b[38;5;124mdata\u001b[39m\u001b[38;5;124m'\u001b[39m][\u001b[38;5;241m0\u001b[39m][\u001b[38;5;124m'\u001b[39m\u001b[38;5;124mprice\u001b[39m\u001b[38;5;124m'\u001b[39m]\n\u001b[0;32m      8\u001b[0m     \u001b[38;5;66;03m#print(ticker[\"Ticker\"],data['data'][0]['price'])\u001b[39;00m\n\u001b[0;32m      9\u001b[0m \u001b[38;5;28;01melse\u001b[39;00m : \n\u001b[0;32m     10\u001b[0m     \u001b[38;5;28;01mcontinue\u001b[39;00m\n",
      "\u001b[1;31mIndexError\u001b[0m: list index out of range"
     ]
    }
   ],
   "source": [
    "import requests\n",
    "\n",
    "sp500_data = {}\n",
    "for _, ticker in sp500_tickers.iterrows():\n",
    "    api_url = f\"https://api.stockdata.org/v1/data/quote?symbols={ticker['Ticker']}&api_token={STOCKDATA_API_TOKEN}\"\n",
    "    response = requests.get(api_url)\n",
    "    \n",
    "    if response.status_code == 200:\n",
    "        data = response.json()\n",
    "        # Check if 'data' key exists and has at least one item\n",
    "        if 'data' in data and len(data['data']) > 0:\n",
    "            try:\n",
    "                sp500_data[ticker['Ticker']] = data['data'][0]['price']\n",
    "                # Uncomment the next line for debugging:\n",
    "                # print(ticker['Ticker'], data['data'][0]['price'])\n",
    "            except (IndexError, KeyError) as e:\n",
    "                print(f\"Error accessing price for {ticker['Ticker']}: {e}\")\n",
    "        else:\n",
    "            print(f\"No data found for {ticker['Ticker']}\")\n",
    "    else:\n",
    "        print(f\"Request failed for {ticker['Ticker']}: {response.status_code}\")\n",
    "        continue\n",
    "\n",
    "print(sp500_data)\n"
   ]
  },
  {
   "cell_type": "code",
   "execution_count": null,
   "id": "c507bd12-53e5-4cd0-9319-6c702e3b9afa",
   "metadata": {},
   "outputs": [],
   "source": []
  }
 ],
 "metadata": {
  "kernelspec": {
   "display_name": "Python 3 (ipykernel)",
   "language": "python",
   "name": "python3"
  },
  "language_info": {
   "codemirror_mode": {
    "name": "ipython",
    "version": 3
   },
   "file_extension": ".py",
   "mimetype": "text/x-python",
   "name": "python",
   "nbconvert_exporter": "python",
   "pygments_lexer": "ipython3",
   "version": "3.12.7"
  }
 },
 "nbformat": 4,
 "nbformat_minor": 5
}
