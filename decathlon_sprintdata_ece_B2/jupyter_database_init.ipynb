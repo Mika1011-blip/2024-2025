{
 "cells": [
  {
   "cell_type": "code",
   "execution_count": 150,
   "id": "cdff18c2-0bed-4818-979a-0e1aac093f2f",
   "metadata": {},
   "outputs": [
    {
     "name": "stdout",
     "output_type": "stream",
     "text": [
      "Nom                     0\n",
      "Marque                  0\n",
      "Prix                    0\n",
      "Lien                    0\n",
      "Description             0\n",
      "Avis                    0\n",
      "Nombre d'avis           0\n",
      "Couleurs Disponibles    0\n",
      "Disponibilité           0\n",
      "Image                   0\n",
      "dtype: int64\n",
      "rows :  40\n"
     ]
    }
   ],
   "source": [
    "import pandas as pd\n",
    "import unicodedata\n",
    "\n",
    "df_produits = pd.read_csv(\"decathlon_produits_details.csv\");\n",
    "\n",
    "#print(df_produits)\n",
    "print(df_produits.isna().sum())  # Count NaNs per column\n",
    "df_produits = df_produits.dropna()\n",
    "print(\"rows : \" , len(df_produits))"
   ]
  },
  {
   "cell_type": "code",
   "execution_count": 132,
   "id": "9d397ca8-57c0-4996-899a-2425aac39ad0",
   "metadata": {},
   "outputs": [
    {
     "name": "stdout",
     "output_type": "stream",
     "text": [
      "Index(['Nom', 'Marque', 'Prix', 'Lien', 'Description', 'Avis', 'Nombre d'avis',\n",
      "       'Couleurs Disponibles', 'Disponibilité', 'Image'],\n",
      "      dtype='object')\n"
     ]
    }
   ],
   "source": [
    "print(df_produits.columns)"
   ]
  },
  {
   "cell_type": "code",
   "execution_count": 134,
   "id": "b972b10d-7990-4e36-97b5-c27c91043db6",
   "metadata": {},
   "outputs": [
    {
     "name": "stdout",
     "output_type": "stream",
     "text": [
      "0     https://sdk.privacy-center.org/sdk/97747f45a7b...\n",
      "1     https://sdk.privacy-center.org/sdk/97747f45a7b...\n",
      "2     https://sdk.privacy-center.org/sdk/97747f45a7b...\n",
      "3     https://sdk.privacy-center.org/sdk/97747f45a7b...\n",
      "4     https://sdk.privacy-center.org/sdk/97747f45a7b...\n",
      "5     https://sdk.privacy-center.org/sdk/97747f45a7b...\n",
      "6     https://sdk.privacy-center.org/sdk/97747f45a7b...\n",
      "7     https://sdk.privacy-center.org/sdk/97747f45a7b...\n",
      "8     https://sdk.privacy-center.org/sdk/97747f45a7b...\n",
      "9     https://sdk.privacy-center.org/sdk/97747f45a7b...\n",
      "10    https://sdk.privacy-center.org/sdk/97747f45a7b...\n",
      "11    https://sdk.privacy-center.org/sdk/97747f45a7b...\n",
      "12    https://sdk.privacy-center.org/sdk/97747f45a7b...\n",
      "13    https://sdk.privacy-center.org/sdk/97747f45a7b...\n",
      "14    https://sdk.privacy-center.org/sdk/97747f45a7b...\n",
      "15    https://sdk.privacy-center.org/sdk/97747f45a7b...\n",
      "16    https://sdk.privacy-center.org/sdk/97747f45a7b...\n",
      "17    https://sdk.privacy-center.org/sdk/97747f45a7b...\n",
      "18    https://sdk.privacy-center.org/sdk/97747f45a7b...\n",
      "19    https://sdk.privacy-center.org/sdk/97747f45a7b...\n",
      "20    https://sdk.privacy-center.org/sdk/97747f45a7b...\n",
      "21    https://sdk.privacy-center.org/sdk/97747f45a7b...\n",
      "22    https://sdk.privacy-center.org/sdk/97747f45a7b...\n",
      "23    https://sdk.privacy-center.org/sdk/97747f45a7b...\n",
      "24    https://sdk.privacy-center.org/sdk/97747f45a7b...\n",
      "25    https://sdk.privacy-center.org/sdk/97747f45a7b...\n",
      "26    https://sdk.privacy-center.org/sdk/97747f45a7b...\n",
      "27    https://sdk.privacy-center.org/sdk/97747f45a7b...\n",
      "28    https://sdk.privacy-center.org/sdk/97747f45a7b...\n",
      "29    https://sdk.privacy-center.org/sdk/97747f45a7b...\n",
      "30    https://sdk.privacy-center.org/sdk/97747f45a7b...\n",
      "31    https://sdk.privacy-center.org/sdk/97747f45a7b...\n",
      "32    https://sdk.privacy-center.org/sdk/97747f45a7b...\n",
      "33    https://sdk.privacy-center.org/sdk/97747f45a7b...\n",
      "34    https://sdk.privacy-center.org/sdk/97747f45a7b...\n",
      "35    https://sdk.privacy-center.org/sdk/97747f45a7b...\n",
      "36    https://sdk.privacy-center.org/sdk/97747f45a7b...\n",
      "37    https://sdk.privacy-center.org/sdk/97747f45a7b...\n",
      "38    https://sdk.privacy-center.org/sdk/97747f45a7b...\n",
      "39    https://sdk.privacy-center.org/sdk/97747f45a7b...\n",
      "Name: Image, dtype: object\n"
     ]
    }
   ],
   "source": [
    "print(df_produits[\"Image\"])"
   ]
  },
  {
   "cell_type": "code",
   "execution_count": 172,
   "id": "b6695455-0065-40d7-a6ed-99470c5fa341",
   "metadata": {},
   "outputs": [],
   "source": [
    "def clean_df(df):\n",
    "    new_cols = {} #dictionary\n",
    "    for col in df.columns:\n",
    "        cleaned = unicodedata.normalize('NFKD', col).encode('ASCII', 'ignore').decode('utf-8').strip().replace(\" \", \"_\")\n",
    "        new_cols[col] = cleaned\n",
    "    df.rename(columns = new_cols, inplace=True)\n",
    "    #print(new_cols)\n",
    "    for _,row in df.iterrows():\n",
    "        #print(row[\"Nom\"])\n",
    "        for col in df.columns:\n",
    "            if isinstance(row[col],str):\n",
    "                cleaned = unicodedata.normalize('NFKD', row[col]).encode('ASCII', 'ignore').decode('utf-8').strip()\n",
    "                row[col] = cleaned\n",
    "        print(row[\"Nom\"])\n",
    "        \n",
    "\n"
   ]
  },
  {
   "cell_type": "code",
   "execution_count": 174,
   "id": "de542a7b-b37f-4b16-890d-9f100a531e2f",
   "metadata": {},
   "outputs": [
    {
     "name": "stdout",
     "output_type": "stream",
     "text": [
      "T-shirt Fitness Homme - 100 Sportee Noir\n",
      "T-Shirt Fitness Homme - 500 Essentials violet neon\n",
      "T-SHIRT DE FITNESS SOFT TRAINING ADIDAS HOMME NOIR\n",
      "T-shirt de padel manches courtes technique homme - kuikma 900 Bleu clair\n",
      "T-shirt de trek voyage manches courtes laine merinos Homme - TRAVEL 500 gris\n",
      "T-shirt en coton homme, beige\n",
      "T-shirt en coton a manches courtes homme, beige\n",
      "T-shirt 100% laine merinos manche longue - mt500 - homme\n",
      "T-SHIRT DE FITNESS CARDIO ADIDAS HOMME BLEU\n",
      "T-SHIRT DE RUNNING 500 CONFORT SLIM noir fume\n",
      "Tee-shirt de compression col rond homme, turquoise\n",
      "T-shirt manches courtes 100 % laine merinos homme, Merino 100% noir\n",
      "T-SHIRT DE FITNESS CARDIO ADIDAS HOMME NOIR\n",
      "T-shirt de fitness en coton pour homme, vert\n",
      "T-shirt de running manches longues slim Homme - KIPRUN Run 500 Sans couture Bleu\n",
      "T-SHIRT RESISTANT 100 VERT\n",
      "tee shirt anti uv surf top 100 manches longues homme gris\n",
      "T-shirt de yoga manches courtes doux homme, bleu acier\n",
      "WATER TEE SHIRT top anti UV surf Manches Courtes Homme Noir\n",
      "T-shirt manches courtes en laine merinos homme, Merino Resist marron\n",
      "T-SHIRT / MAILLOT BASKETBALL HOMME/FEMME - TS500 FAST GRIS\n",
      "T-shirt de running sans couture homme - kiprun run 500 confort noir\n",
      "Tee-shirt de peche Anti-UV 500 Capuche UPF 50+ Vert\n",
      "T-shirt de running manches longues Homme - KIPRUN Run 500 Sans couture Jaune\n",
      "T-shirt laine merinos de trek voyage - TRAVEL 500 manches longues kaki homme\n",
      "tee shirt de surf manches longues UPF50+ homme - flower blanc\n",
      "T-shirt manches longues de trekking en laine merinos - MT900 -Homme\n",
      "WATER TEE SHIRT top anti UV surf Manches Longues Homme Blue\n",
      "T-shirt d'escalade resistant homme, Vertika bleu\n",
      "T-shirt de running longue distance Homme - KIPRUN Run 900 Ultra Vert fonce grise\n",
      "T-shirt de fitness pour homme UA TechTM 2.0, noir\n",
      "T-shirt de running respirant Homme - KIPRUN 100 Dry Bleu\n",
      "Tee shirt anti uv manches courtes homme - print gris\n",
      "Top polaire surf 900 Homme manches courtes - Noir\n",
      "T-shirt de running respirant Homme - KIPRUN Run 500 Dry + Graph Lin\n",
      "Tee shirt de surf manches longues UPF50+ Homme - 500 greyblue\n",
      "T-shirt d'escalade resistant homme, Vertika greige\n",
      "Tee shirt anti uv manches courtes Homme - 100 rouge\n",
      "T-shirt de running respirant Homme - KIPRUN Run 500 Dry Bleu fonce\n",
      "T-shirt fitness manches longues slim coton col rond homme gris\n"
     ]
    }
   ],
   "source": [
    "clean_df(df_produits)"
   ]
  },
  {
   "cell_type": "code",
   "execution_count": 176,
   "id": "1c466ef0-72fd-46ba-b7c6-17e980387aab",
   "metadata": {},
   "outputs": [
    {
     "name": "stdout",
     "output_type": "stream",
     "text": [
      "Index(['Nom', 'Marque', 'Prix', 'Lien', 'Description', 'Avis', 'Nombre_d'avis',\n",
      "       'Couleurs_Disponibles', 'Disponibilite', 'Image'],\n",
      "      dtype='object')\n"
     ]
    }
   ],
   "source": [
    "print(df_produits.columns)"
   ]
  },
  {
   "cell_type": "code",
   "execution_count": 188,
   "id": "7c63c823-b8b8-429e-a0d1-cb01212c8382",
   "metadata": {},
   "outputs": [
    {
     "name": "stdout",
     "output_type": "stream",
     "text": [
      "0              T-shirt Fitness Homme - 100 Sportee Noir\n",
      "1     T-Shirt Fitness Homme - 500 Essentials violet ...\n",
      "2     T-SHIRT DE FITNESS SOFT TRAINING ADIDAS HOMME ...\n",
      "3     T-shirt de padel manches courtes technique hom...\n",
      "4     T-shirt de trek voyage manches courtes laine m...\n",
      "5                         T-shirt en coton homme, beige\n",
      "6       T-shirt en coton à manches courtes homme, beige\n",
      "7     T-shirt 100% laine mérinos manche longue - mt5...\n",
      "8           T-SHIRT DE FITNESS CARDIO ADIDAS HOMME BLEU\n",
      "9         T-SHIRT DE RUNNING 500 CONFORT SLIM noir fumé\n",
      "10    Tee-shirt de compression col rond homme, turqu...\n",
      "11    T-shirt manches courtes 100 % laine mérinos ho...\n",
      "12          T-SHIRT DE FITNESS CARDIO ADIDAS HOMME NOIR\n",
      "13         T-shirt de fitness en coton pour homme, vert\n",
      "14    T-shirt de running manches longues slim Homme ...\n",
      "15                           T-SHIRT RESISTANT 100 VERT\n",
      "16    tee shirt anti uv surf top 100 manches longues...\n",
      "17    T-shirt de yoga manches courtes doux homme, bl...\n",
      "18    WATER TEE SHIRT top anti UV surf Manches Court...\n",
      "19    T-shirt manches courtes en laine mérinos homme...\n",
      "20    T-SHIRT / MAILLOT BASKETBALL HOMME/FEMME - TS5...\n",
      "21    T-shirt de running sans couture homme - kiprun...\n",
      "22    Tee-shirt de pêche Anti-UV 500 Capuche UPF 50+...\n",
      "23    T-shirt de running manches longues Homme - KIP...\n",
      "24    T-shirt laine mérinos de trek voyage - TRAVEL ...\n",
      "25    tee shirt de surf manches longues UPF50+ homme...\n",
      "26    T-shirt manches longues de trekking en laine m...\n",
      "27    WATER TEE SHIRT top anti UV surf Manches Longu...\n",
      "28     T-shirt d'escalade résistant homme, Vertika bleu\n",
      "29    T-shirt de running longue distance Homme - KIP...\n",
      "30     T-shirt de fitness pour homme UA Tech™ 2.0, noir\n",
      "31    T-shirt de running respirant Homme - KIPRUN 10...\n",
      "32    Tee shirt anti uv manches courtes homme - prin...\n",
      "33    Top polaire surf 900 Homme manches courtes - Noir\n",
      "34    T-shirt de running respirant Homme - KIPRUN Ru...\n",
      "35    Tee shirt de surf manches longues UPF50+ Homme...\n",
      "36    T-shirt d'escalade résistant homme, Vertika gr...\n",
      "37    Tee shirt anti uv manches courtes Homme - 100 ...\n",
      "38    T-shirt de running respirant Homme - KIPRUN Ru...\n",
      "39    T-shirt fitness manches longues slim coton col...\n",
      "Name: Nom, dtype: object\n"
     ]
    }
   ],
   "source": [
    "print(df_produits[\"Nom\"])"
   ]
  },
  {
   "cell_type": "code",
   "execution_count": 180,
   "id": "52917be4-6231-418a-91e9-f979e3e72d4d",
   "metadata": {},
   "outputs": [],
   "source": [
    "def categorize_df(df, column):\n",
    "    separated_df = {} \n",
    "    for key in df[column].unique():\n",
    "        separated_df[key] = df.loc[df[column] == key]\n",
    "    return separated_df  \n",
    "\n",
    "    "
   ]
  },
  {
   "cell_type": "code",
   "execution_count": 182,
   "id": "a39eb2b8-9492-467d-b13a-52e2297f80e9",
   "metadata": {},
   "outputs": [
    {
     "name": "stdout",
     "output_type": "stream",
     "text": [
      "14\n"
     ]
    }
   ],
   "source": [
    "print(df_produits[\"Marque\"].nunique())"
   ]
  },
  {
   "cell_type": "code",
   "execution_count": 184,
   "id": "12606e8a-4d86-4719-98e4-25175c853701",
   "metadata": {},
   "outputs": [
    {
     "data": {
      "text/plain": [
       "Index(['Nom', 'Marque', 'Prix', 'Lien', 'Description', 'Avis', 'Nombre_d'avis',\n",
       "       'Couleurs_Disponibles', 'Disponibilite', 'Image'],\n",
       "      dtype='object')"
      ]
     },
     "execution_count": 184,
     "metadata": {},
     "output_type": "execute_result"
    }
   ],
   "source": [
    "df_produits.columns"
   ]
  },
  {
   "cell_type": "code",
   "execution_count": 194,
   "id": "b23e9ff1-5615-49cd-8aef-0f64a49fb79e",
   "metadata": {},
   "outputs": [
    {
     "ename": "KeyError",
     "evalue": "\"Nombre_d'avis\"",
     "output_type": "error",
     "traceback": [
      "\u001b[1;31m---------------------------------------------------------------------------\u001b[0m",
      "\u001b[1;31mKeyError\u001b[0m                                  Traceback (most recent call last)",
      "File \u001b[1;32m~\\anaconda3\\Lib\\site-packages\\pandas\\core\\indexes\\base.py:3805\u001b[0m, in \u001b[0;36mIndex.get_loc\u001b[1;34m(self, key)\u001b[0m\n\u001b[0;32m   3804\u001b[0m \u001b[38;5;28;01mtry\u001b[39;00m:\n\u001b[1;32m-> 3805\u001b[0m     \u001b[38;5;28;01mreturn\u001b[39;00m \u001b[38;5;28mself\u001b[39m\u001b[38;5;241m.\u001b[39m_engine\u001b[38;5;241m.\u001b[39mget_loc(casted_key)\n\u001b[0;32m   3806\u001b[0m \u001b[38;5;28;01mexcept\u001b[39;00m \u001b[38;5;167;01mKeyError\u001b[39;00m \u001b[38;5;28;01mas\u001b[39;00m err:\n",
      "File \u001b[1;32mindex.pyx:167\u001b[0m, in \u001b[0;36mpandas._libs.index.IndexEngine.get_loc\u001b[1;34m()\u001b[0m\n",
      "File \u001b[1;32mindex.pyx:196\u001b[0m, in \u001b[0;36mpandas._libs.index.IndexEngine.get_loc\u001b[1;34m()\u001b[0m\n",
      "File \u001b[1;32mpandas\\\\_libs\\\\hashtable_class_helper.pxi:7081\u001b[0m, in \u001b[0;36mpandas._libs.hashtable.PyObjectHashTable.get_item\u001b[1;34m()\u001b[0m\n",
      "File \u001b[1;32mpandas\\\\_libs\\\\hashtable_class_helper.pxi:7089\u001b[0m, in \u001b[0;36mpandas._libs.hashtable.PyObjectHashTable.get_item\u001b[1;34m()\u001b[0m\n",
      "\u001b[1;31mKeyError\u001b[0m: \"Nombre_d'avis\"",
      "\nThe above exception was the direct cause of the following exception:\n",
      "\u001b[1;31mKeyError\u001b[0m                                  Traceback (most recent call last)",
      "Cell \u001b[1;32mIn[194], line 81\u001b[0m\n\u001b[0;32m     79\u001b[0m create_database(df_produits,\u001b[38;5;124m\"\u001b[39m\u001b[38;5;124mproduits\u001b[39m\u001b[38;5;124m\"\u001b[39m)\n\u001b[0;32m     80\u001b[0m \u001b[38;5;28;01mfor\u001b[39;00m brand, df \u001b[38;5;129;01min\u001b[39;00m df_produits_parMarque\u001b[38;5;241m.\u001b[39mitems():\n\u001b[1;32m---> 81\u001b[0m     create_database(df, \u001b[38;5;124mf\u001b[39m\u001b[38;5;124m\"\u001b[39m\u001b[38;5;124mproduits_\u001b[39m\u001b[38;5;132;01m{\u001b[39;00mbrand\u001b[38;5;132;01m}\u001b[39;00m\u001b[38;5;124m\"\u001b[39m)\n",
      "Cell \u001b[1;32mIn[194], line 65\u001b[0m, in \u001b[0;36mcreate_database\u001b[1;34m(df, table_name)\u001b[0m\n\u001b[0;32m     38\u001b[0m stmt\u001b[38;5;241m.\u001b[39mexecute(\u001b[38;5;124mf\u001b[39m\u001b[38;5;124m'''\u001b[39m\n\u001b[0;32m     39\u001b[0m \u001b[38;5;124mCREATE TABLE IF NOT EXISTS `\u001b[39m\u001b[38;5;132;01m{\u001b[39;00mtable_name\u001b[38;5;132;01m}\u001b[39;00m\u001b[38;5;124m` (\u001b[39m\n\u001b[0;32m     40\u001b[0m \u001b[38;5;124m    id INTEGER PRIMARY KEY AUTO_INCREMENT,\u001b[39m\n\u001b[1;32m   (...)\u001b[0m\n\u001b[0;32m     51\u001b[0m \u001b[38;5;124m)\u001b[39m\n\u001b[0;32m     52\u001b[0m \u001b[38;5;124m\u001b[39m\u001b[38;5;124m'''\u001b[39m)\n\u001b[0;32m     54\u001b[0m \u001b[38;5;28;01mfor\u001b[39;00m _, row \u001b[38;5;129;01min\u001b[39;00m df\u001b[38;5;241m.\u001b[39miterrows():\n\u001b[0;32m     55\u001b[0m     stmt\u001b[38;5;241m.\u001b[39mexecute(\u001b[38;5;124mf\u001b[39m\u001b[38;5;124m'''\u001b[39m\n\u001b[0;32m     56\u001b[0m \u001b[38;5;124m        INSERT INTO `\u001b[39m\u001b[38;5;132;01m{\u001b[39;00mtable_name\u001b[38;5;132;01m}\u001b[39;00m\u001b[38;5;124m` (nom, marque, prix, lien, description, avis, nombre_avis, couleurs_disponibles, disponibilite, image)\u001b[39m\n\u001b[0;32m     57\u001b[0m \u001b[38;5;124m        VALUES (%s, %s, %s, %s, %s, %s, %s, %s, %s, %s)\u001b[39m\n\u001b[0;32m     58\u001b[0m \u001b[38;5;124m    \u001b[39m\u001b[38;5;124m'''\u001b[39m, (\n\u001b[0;32m     59\u001b[0m         row\u001b[38;5;241m.\u001b[39mget(\u001b[38;5;124m'\u001b[39m\u001b[38;5;124mNom\u001b[39m\u001b[38;5;124m'\u001b[39m, \u001b[38;5;28;01mNone\u001b[39;00m),\n\u001b[0;32m     60\u001b[0m         row\u001b[38;5;241m.\u001b[39mget(\u001b[38;5;124m'\u001b[39m\u001b[38;5;124mMarque\u001b[39m\u001b[38;5;124m'\u001b[39m, \u001b[38;5;28;01mNone\u001b[39;00m),\n\u001b[0;32m     61\u001b[0m         \u001b[38;5;28mfloat\u001b[39m(row[\u001b[38;5;124m'\u001b[39m\u001b[38;5;124mPrix\u001b[39m\u001b[38;5;124m'\u001b[39m]) \u001b[38;5;28;01mif\u001b[39;00m \u001b[38;5;28misinstance\u001b[39m(row[\u001b[38;5;124m'\u001b[39m\u001b[38;5;124mPrix\u001b[39m\u001b[38;5;124m'\u001b[39m], (\u001b[38;5;28mint\u001b[39m, \u001b[38;5;28mfloat\u001b[39m, \u001b[38;5;28mstr\u001b[39m)) \u001b[38;5;129;01mand\u001b[39;00m row[\u001b[38;5;124m'\u001b[39m\u001b[38;5;124mPrix\u001b[39m\u001b[38;5;124m'\u001b[39m] \u001b[38;5;241m!=\u001b[39m \u001b[38;5;124m\"\u001b[39m\u001b[38;5;124mNon disponible\u001b[39m\u001b[38;5;124m\"\u001b[39m \u001b[38;5;28;01melse\u001b[39;00m \u001b[38;5;28;01mNone\u001b[39;00m,\n\u001b[0;32m     62\u001b[0m         row\u001b[38;5;241m.\u001b[39mget(\u001b[38;5;124m'\u001b[39m\u001b[38;5;124mLien\u001b[39m\u001b[38;5;124m'\u001b[39m, \u001b[38;5;28;01mNone\u001b[39;00m),\n\u001b[0;32m     63\u001b[0m         row\u001b[38;5;241m.\u001b[39mget(\u001b[38;5;124m'\u001b[39m\u001b[38;5;124mDescription\u001b[39m\u001b[38;5;124m'\u001b[39m, \u001b[38;5;28;01mNone\u001b[39;00m),\n\u001b[0;32m     64\u001b[0m         \u001b[38;5;28mfloat\u001b[39m(row[\u001b[38;5;124m'\u001b[39m\u001b[38;5;124mAvis\u001b[39m\u001b[38;5;124m'\u001b[39m]) \u001b[38;5;28;01mif\u001b[39;00m \u001b[38;5;28misinstance\u001b[39m(row[\u001b[38;5;124m'\u001b[39m\u001b[38;5;124mAvis\u001b[39m\u001b[38;5;124m'\u001b[39m], (\u001b[38;5;28mint\u001b[39m, \u001b[38;5;28mfloat\u001b[39m, \u001b[38;5;28mstr\u001b[39m)) \u001b[38;5;129;01mand\u001b[39;00m row[\u001b[38;5;124m'\u001b[39m\u001b[38;5;124mAvis\u001b[39m\u001b[38;5;124m'\u001b[39m] \u001b[38;5;241m!=\u001b[39m \u001b[38;5;124m\"\u001b[39m\u001b[38;5;124mNon disponible\u001b[39m\u001b[38;5;124m\"\u001b[39m \u001b[38;5;28;01melse\u001b[39;00m \u001b[38;5;28;01mNone\u001b[39;00m,\n\u001b[1;32m---> 65\u001b[0m         \u001b[38;5;28mint\u001b[39m(row[\u001b[38;5;124m\"\u001b[39m\u001b[38;5;124mNombre_d\u001b[39m\u001b[38;5;124m'\u001b[39m\u001b[38;5;124mavis\u001b[39m\u001b[38;5;124m\"\u001b[39m]) \u001b[38;5;28;01mif\u001b[39;00m \u001b[38;5;28misinstance\u001b[39m(row[\u001b[38;5;124m\"\u001b[39m\u001b[38;5;124mNombre_d\u001b[39m\u001b[38;5;124m'\u001b[39m\u001b[38;5;124mavis\u001b[39m\u001b[38;5;124m\"\u001b[39m], (\u001b[38;5;28mint\u001b[39m, \u001b[38;5;28mfloat\u001b[39m, \u001b[38;5;28mstr\u001b[39m)) \u001b[38;5;129;01mand\u001b[39;00m row[\u001b[38;5;124m\"\u001b[39m\u001b[38;5;124mNombre_d\u001b[39m\u001b[38;5;124m'\u001b[39m\u001b[38;5;124mavis\u001b[39m\u001b[38;5;124m\"\u001b[39m] \u001b[38;5;241m!=\u001b[39m \u001b[38;5;124m\"\u001b[39m\u001b[38;5;124mNon disponible\u001b[39m\u001b[38;5;124m\"\u001b[39m \u001b[38;5;28;01melse\u001b[39;00m \u001b[38;5;28;01mNone\u001b[39;00m,\n\u001b[0;32m     66\u001b[0m         row\u001b[38;5;241m.\u001b[39mget(\u001b[38;5;124m'\u001b[39m\u001b[38;5;124mCouleurs_Disponibles\u001b[39m\u001b[38;5;124m'\u001b[39m, \u001b[38;5;28;01mNone\u001b[39;00m),\n\u001b[0;32m     67\u001b[0m         row\u001b[38;5;241m.\u001b[39mget(\u001b[38;5;124m'\u001b[39m\u001b[38;5;124mDisponibilite\u001b[39m\u001b[38;5;124m'\u001b[39m, \u001b[38;5;28;01mNone\u001b[39;00m),\n\u001b[0;32m     68\u001b[0m         row\u001b[38;5;241m.\u001b[39mget(\u001b[38;5;124m'\u001b[39m\u001b[38;5;124mImage\u001b[39m\u001b[38;5;124m'\u001b[39m, \u001b[38;5;28;01mNone\u001b[39;00m)\n\u001b[0;32m     69\u001b[0m     ))\n\u001b[0;32m     71\u001b[0m conn\u001b[38;5;241m.\u001b[39mcommit()\n\u001b[0;32m     72\u001b[0m stmt\u001b[38;5;241m.\u001b[39mclose() \n",
      "File \u001b[1;32m~\\anaconda3\\Lib\\site-packages\\pandas\\core\\series.py:1121\u001b[0m, in \u001b[0;36mSeries.__getitem__\u001b[1;34m(self, key)\u001b[0m\n\u001b[0;32m   1118\u001b[0m     \u001b[38;5;28;01mreturn\u001b[39;00m \u001b[38;5;28mself\u001b[39m\u001b[38;5;241m.\u001b[39m_values[key]\n\u001b[0;32m   1120\u001b[0m \u001b[38;5;28;01melif\u001b[39;00m key_is_scalar:\n\u001b[1;32m-> 1121\u001b[0m     \u001b[38;5;28;01mreturn\u001b[39;00m \u001b[38;5;28mself\u001b[39m\u001b[38;5;241m.\u001b[39m_get_value(key)\n\u001b[0;32m   1123\u001b[0m \u001b[38;5;66;03m# Convert generator to list before going through hashable part\u001b[39;00m\n\u001b[0;32m   1124\u001b[0m \u001b[38;5;66;03m# (We will iterate through the generator there to check for slices)\u001b[39;00m\n\u001b[0;32m   1125\u001b[0m \u001b[38;5;28;01mif\u001b[39;00m is_iterator(key):\n",
      "File \u001b[1;32m~\\anaconda3\\Lib\\site-packages\\pandas\\core\\series.py:1237\u001b[0m, in \u001b[0;36mSeries._get_value\u001b[1;34m(self, label, takeable)\u001b[0m\n\u001b[0;32m   1234\u001b[0m     \u001b[38;5;28;01mreturn\u001b[39;00m \u001b[38;5;28mself\u001b[39m\u001b[38;5;241m.\u001b[39m_values[label]\n\u001b[0;32m   1236\u001b[0m \u001b[38;5;66;03m# Similar to Index.get_value, but we do not fall back to positional\u001b[39;00m\n\u001b[1;32m-> 1237\u001b[0m loc \u001b[38;5;241m=\u001b[39m \u001b[38;5;28mself\u001b[39m\u001b[38;5;241m.\u001b[39mindex\u001b[38;5;241m.\u001b[39mget_loc(label)\n\u001b[0;32m   1239\u001b[0m \u001b[38;5;28;01mif\u001b[39;00m is_integer(loc):\n\u001b[0;32m   1240\u001b[0m     \u001b[38;5;28;01mreturn\u001b[39;00m \u001b[38;5;28mself\u001b[39m\u001b[38;5;241m.\u001b[39m_values[loc]\n",
      "File \u001b[1;32m~\\anaconda3\\Lib\\site-packages\\pandas\\core\\indexes\\base.py:3812\u001b[0m, in \u001b[0;36mIndex.get_loc\u001b[1;34m(self, key)\u001b[0m\n\u001b[0;32m   3807\u001b[0m     \u001b[38;5;28;01mif\u001b[39;00m \u001b[38;5;28misinstance\u001b[39m(casted_key, \u001b[38;5;28mslice\u001b[39m) \u001b[38;5;129;01mor\u001b[39;00m (\n\u001b[0;32m   3808\u001b[0m         \u001b[38;5;28misinstance\u001b[39m(casted_key, abc\u001b[38;5;241m.\u001b[39mIterable)\n\u001b[0;32m   3809\u001b[0m         \u001b[38;5;129;01mand\u001b[39;00m \u001b[38;5;28many\u001b[39m(\u001b[38;5;28misinstance\u001b[39m(x, \u001b[38;5;28mslice\u001b[39m) \u001b[38;5;28;01mfor\u001b[39;00m x \u001b[38;5;129;01min\u001b[39;00m casted_key)\n\u001b[0;32m   3810\u001b[0m     ):\n\u001b[0;32m   3811\u001b[0m         \u001b[38;5;28;01mraise\u001b[39;00m InvalidIndexError(key)\n\u001b[1;32m-> 3812\u001b[0m     \u001b[38;5;28;01mraise\u001b[39;00m \u001b[38;5;167;01mKeyError\u001b[39;00m(key) \u001b[38;5;28;01mfrom\u001b[39;00m \u001b[38;5;21;01merr\u001b[39;00m\n\u001b[0;32m   3813\u001b[0m \u001b[38;5;28;01mexcept\u001b[39;00m \u001b[38;5;167;01mTypeError\u001b[39;00m:\n\u001b[0;32m   3814\u001b[0m     \u001b[38;5;66;03m# If we have a listlike key, _check_indexing_error will raise\u001b[39;00m\n\u001b[0;32m   3815\u001b[0m     \u001b[38;5;66;03m#  InvalidIndexError. Otherwise we fall through and re-raise\u001b[39;00m\n\u001b[0;32m   3816\u001b[0m     \u001b[38;5;66;03m#  the TypeError.\u001b[39;00m\n\u001b[0;32m   3817\u001b[0m     \u001b[38;5;28mself\u001b[39m\u001b[38;5;241m.\u001b[39m_check_indexing_error(key)\n",
      "\u001b[1;31mKeyError\u001b[0m: \"Nombre_d'avis\""
     ]
    }
   ],
   "source": [
    "import pandas as pd\n",
    "import mysql.connector\n",
    "import unicodedata\n",
    "\n",
    "def clean_df(df):\n",
    "    new_cols = {} #dictionary\n",
    "    for col in df.columns:\n",
    "        cleaned = unicodedata.normalize('NFKD', col).encode('ASCII', 'ignore').decode('utf-8').strip().replace(\" \", \"_\")\n",
    "        new_cols[col] = cleaned\n",
    "    df.rename(columns = new_cols, inplace=True)\n",
    "    #print(new_cols)\n",
    "    for col in df.columns:\n",
    "        df[col] = df[col].apply(lambda x: unicodedata.normalize('NFKD', str(x)).encode('ASCII', 'ignore').decode('utf-8').strip() if isinstance(x, str) else x)\n",
    "\n",
    "\n",
    "def categorize_df(df, column):\n",
    "    separated_df = {} \n",
    "    for key in df[column].unique():\n",
    "        separated_df[key] = df.loc[df[column] == key]\n",
    "    return separated_df  \n",
    "\n",
    "def connect_mysql() :\n",
    "    conn = mysql.connector.connect(\n",
    "        host = \"localhost\",\n",
    "        user = \"root\",\n",
    "        password = \"\",\n",
    "        database= \"sprintData_decathlon\"\n",
    "    )\n",
    "    return conn\n",
    "\n",
    "\n",
    "#print(df_produits)\n",
    "def create_database(df, table_name): \n",
    "    conn = connect_mysql()\n",
    "    stmt = conn.cursor()\n",
    "\n",
    "    # Corrected table creation with f-string\n",
    "    stmt.execute(f'''\n",
    "    CREATE TABLE IF NOT EXISTS `{table_name}` (\n",
    "        id INTEGER PRIMARY KEY AUTO_INCREMENT,\n",
    "        nom TEXT,\n",
    "        marque TEXT,\n",
    "        prix REAL,\n",
    "        lien TEXT,\n",
    "        description TEXT,\n",
    "        avis REAL,\n",
    "        nombre_avis INTEGER,\n",
    "        couleurs_disponibles TEXT,\n",
    "        disponibilite TEXT,\n",
    "        image TEXT\n",
    "    )\n",
    "    ''')\n",
    "\n",
    "    for _, row in df.iterrows():\n",
    "        stmt.execute(f'''\n",
    "            INSERT INTO `{table_name}` (nom, marque, prix, lien, description, avis, nombre_avis, couleurs_disponibles, disponibilite, image)\n",
    "            VALUES (%s, %s, %s, %s, %s, %s, %s, %s, %s, %s)\n",
    "        ''', (\n",
    "            row.get('Nom', None),\n",
    "            row.get('Marque', None),\n",
    "            float(row['Prix']) if isinstance(row['Prix'], (int, float, str)) and row['Prix'] != \"Non disponible\" else None,\n",
    "            row.get('Lien', None),\n",
    "            row.get('Description', None),\n",
    "            float(row['Avis']) if isinstance(row['Avis'], (int, float, str)) and row['Avis'] != \"Non disponible\" else None,\n",
    "            int(row[\"Nombre_d'avis\"]) if isinstance(row[\"Nombre_d'avis\"], (int, float, str)) and row[\"Nombre_d'avis\"] != \"Non disponible\" else None,\n",
    "            row.get('Couleurs_Disponibles', None),\n",
    "            row.get('Disponibilite', None),\n",
    "            row.get('Image', None)\n",
    "        ))\n",
    "\n",
    "    conn.commit()\n",
    "    stmt.close() \n",
    "    conn.close()\n",
    "\n",
    "\n",
    "df_produits = pd.read_csv(\"decathlon_produits_details.csv\")\n",
    "df_produits_parMarque = categorize_df(df_produits, \"Marque\")\n",
    "clean_df(df_produits)\n",
    "create_database(df_produits,\"produits\")\n",
    "for brand, df in df_produits_parMarque.items():\n",
    "    create_database(df, f\"produits_{brand}\")"
   ]
  },
  {
   "cell_type": "code",
   "execution_count": 192,
   "id": "b5a3ae09-69c9-4a09-a6c5-3c515f414722",
   "metadata": {},
   "outputs": [
    {
     "name": "stdout",
     "output_type": "stream",
     "text": [
      "Collecting mysql-connector-python\n",
      "  Downloading mysql_connector_python-9.2.0-cp312-cp312-win_amd64.whl.metadata (6.2 kB)\n",
      "Downloading mysql_connector_python-9.2.0-cp312-cp312-win_amd64.whl (16.1 MB)\n",
      "   ---------------------------------------- 0.0/16.1 MB ? eta -:--:--\n",
      "   ------------ --------------------------- 5.0/16.1 MB 27.4 MB/s eta 0:00:01\n",
      "   ---------------------- ----------------- 8.9/16.1 MB 23.1 MB/s eta 0:00:01\n",
      "   ---------------------------------------- 16.1/16.1 MB 28.9 MB/s eta 0:00:00\n",
      "Installing collected packages: mysql-connector-python\n",
      "Successfully installed mysql-connector-python-9.2.0\n",
      "Note: you may need to restart the kernel to use updated packages.\n"
     ]
    }
   ],
   "source": [
    "pip install mysql-connector-python \n"
   ]
  },
  {
   "cell_type": "code",
   "execution_count": 196,
   "id": "790d9257-e11e-4eee-ad03-1f6dd08a0a93",
   "metadata": {},
   "outputs": [
    {
     "name": "stdout",
     "output_type": "stream",
     "text": [
      "Index(['Nom', 'Marque', 'Prix', 'Lien', 'Description', 'Avis', 'Nombre_d'avis',\n",
      "       'Couleurs_Disponibles', 'Disponibilite', 'Image'],\n",
      "      dtype='object')\n"
     ]
    }
   ],
   "source": [
    "print(df_produits.columns)\n"
   ]
  },
  {
   "cell_type": "code",
   "execution_count": null,
   "id": "d925fa9c-6ecc-4dc5-a172-cb68bfe9d36d",
   "metadata": {},
   "outputs": [],
   "source": []
  }
 ],
 "metadata": {
  "kernelspec": {
   "display_name": "Python 3 (ipykernel)",
   "language": "python",
   "name": "python3"
  },
  "language_info": {
   "codemirror_mode": {
    "name": "ipython",
    "version": 3
   },
   "file_extension": ".py",
   "mimetype": "text/x-python",
   "name": "python",
   "nbconvert_exporter": "python",
   "pygments_lexer": "ipython3",
   "version": "3.12.7"
  }
 },
 "nbformat": 4,
 "nbformat_minor": 5
}
